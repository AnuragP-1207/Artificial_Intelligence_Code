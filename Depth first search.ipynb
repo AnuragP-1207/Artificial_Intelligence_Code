{
 "cells": [
  {
   "cell_type": "code",
   "execution_count": 5,
   "id": "c0b73e92-fd9b-41ac-ac9b-9210b5e5c0a9",
   "metadata": {},
   "outputs": [
    {
     "name": "stdout",
     "output_type": "stream",
     "text": [
      "A\n",
      "C\n",
      "F\n",
      "E\n",
      "B\n",
      "D\n"
     ]
    }
   ],
   "source": [
    "graph1 = {\n",
    "\n",
    "'A': set(['B', 'C']),\n",
    "\n",
    "'B': set(['A', 'D', 'E']),\n",
    "\n",
    "'C': set(['A', 'F']),\n",
    "\n",
    "'D': set(['B']),\n",
    "\n",
    "'E': set(['B', 'F']),\n",
    "\n",
    "'F': set(['C', 'E'])\n",
    "\n",
    "}\n",
    "\n",
    "visited = set()\n",
    "\n",
    "def dfs(visited, graph, root):\n",
    "          if root not in visited:\n",
    "             print(root)\n",
    "             visited.add(root)\n",
    "             for neighbour in graph[root]:\n",
    "                 dfs(visited, graph, neighbour)\n",
    "\n",
    "dfs(visited, graph1, 'A')"
   ]
  },
  {
   "cell_type": "code",
   "execution_count": null,
   "id": "8285682c-cd79-4ae4-b63c-834de0e29f17",
   "metadata": {},
   "outputs": [],
   "source": []
  }
 ],
 "metadata": {
  "kernelspec": {
   "display_name": "Python 3 (ipykernel)",
   "language": "python",
   "name": "python3"
  },
  "language_info": {
   "codemirror_mode": {
    "name": "ipython",
    "version": 3
   },
   "file_extension": ".py",
   "mimetype": "text/x-python",
   "name": "python",
   "nbconvert_exporter": "python",
   "pygments_lexer": "ipython3",
   "version": "3.10.5"
  }
 },
 "nbformat": 4,
 "nbformat_minor": 5
}
