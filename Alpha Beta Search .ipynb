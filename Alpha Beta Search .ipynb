{
 "cells": [
  {
   "cell_type": "code",
   "execution_count": 2,
   "id": "8385f600-c44f-4c01-a2d8-15e182684385",
   "metadata": {},
   "outputs": [
    {
     "name": "stdout",
     "output_type": "stream",
     "text": [
      "The optimal value is:  6\n"
     ]
    }
   ],
   "source": [
    "MAX, MIN = 1000, -1000\n",
    "\n",
    "def minimax(depth, nodeIndex, maximizingPlayer, values, alpha, beta):\n",
    "    # Base case: If we've reached the maximum depth\n",
    "    if depth == 3:\n",
    "        return values[nodeIndex]\n",
    "\n",
    "    if maximizingPlayer:\n",
    "        best = MIN\n",
    "\n",
    "        # Recur for the two children\n",
    "        for i in range(0, 2):\n",
    "            val = minimax(depth + 1, nodeIndex * 2 + i, False, values, alpha, beta)\n",
    "            best = max(best, val)\n",
    "            alpha = max(alpha, best)\n",
    "\n",
    "            # Alpha-Beta pruning\n",
    "            if beta <= alpha:\n",
    "                break\n",
    "\n",
    "        return best\n",
    "\n",
    "    else:\n",
    "        best = MAX\n",
    "\n",
    "        # Recur for the two children\n",
    "        for i in range(0, 2):\n",
    "            val = minimax(depth + 1, nodeIndex * 2 + i, True, values, alpha, beta)\n",
    "            best = min(best, val)\n",
    "            beta = min(beta, best)\n",
    "\n",
    "            # Alpha-Beta pruning\n",
    "            if beta <= alpha:\n",
    "                break\n",
    "\n",
    "        return best\n",
    "\n",
    "if __name__ == \"__main__\":\n",
    "    values = [5, 4, 3, 1, 2, 6, 8, 9]\n",
    "    print(\"The optimal value is: \", minimax(0, 0, True, values, MIN, MAX))\n"
   ]
  },
  {
   "cell_type": "code",
   "execution_count": null,
   "id": "e132b189-fc2d-488c-8f40-c1dbd1fc977a",
   "metadata": {},
   "outputs": [],
   "source": []
  }
 ],
 "metadata": {
  "kernelspec": {
   "display_name": "Python 3 (ipykernel)",
   "language": "python",
   "name": "python3"
  },
  "language_info": {
   "codemirror_mode": {
    "name": "ipython",
    "version": 3
   },
   "file_extension": ".py",
   "mimetype": "text/x-python",
   "name": "python",
   "nbconvert_exporter": "python",
   "pygments_lexer": "ipython3",
   "version": "3.10.5"
  }
 },
 "nbformat": 4,
 "nbformat_minor": 5
}
