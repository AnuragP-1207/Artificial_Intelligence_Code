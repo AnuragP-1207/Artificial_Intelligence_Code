{
 "cells": [
  {
   "cell_type": "code",
   "execution_count": 2,
   "id": "54c1d228-d144-48d0-85fc-abc30cc72856",
   "metadata": {},
   "outputs": [
    {
     "name": "stdout",
     "output_type": "stream",
     "text": [
      "You Got: \n",
      "4 of Heart\n",
      "12 of Diamond\n",
      "1 of Heart\n",
      "11 of Heart\n",
      "8 of Spade\n"
     ]
    }
   ],
   "source": [
    "import itertools,random\n",
    "deck = list(itertools.product(range(1,14),['Spade', 'Heart', 'Diamond', 'Club']))\n",
    "random.shuffle(deck)\n",
    "print(\"You Got: \")\n",
    "for i in range(5):\n",
    "    print(deck[i][0],\"of\",deck[i][1])"
   ]
  },
  {
   "cell_type": "code",
   "execution_count": null,
   "id": "d2682a83-8a86-48e4-8354-40977f0b4f03",
   "metadata": {},
   "outputs": [],
   "source": []
  }
 ],
 "metadata": {
  "kernelspec": {
   "display_name": "Python 3 (ipykernel)",
   "language": "python",
   "name": "python3"
  },
  "language_info": {
   "codemirror_mode": {
    "name": "ipython",
    "version": 3
   },
   "file_extension": ".py",
   "mimetype": "text/x-python",
   "name": "python",
   "nbconvert_exporter": "python",
   "pygments_lexer": "ipython3",
   "version": "3.10.5"
  }
 },
 "nbformat": 4,
 "nbformat_minor": 5
}
