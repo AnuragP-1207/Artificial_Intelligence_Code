{
 "cells": [
  {
   "cell_type": "code",
   "execution_count": 5,
   "id": "3532c467-c14d-4354-84ea-f01c592f8f24",
   "metadata": {},
   "outputs": [
    {
     "name": "stdin",
     "output_type": "stream",
     "text": [
      "Enter Jug A Capacity:  4\n",
      "Enter Jug B Capacity:  3\n",
      "Initially Water in Jug A:  0\n",
      "Initially Water in Jug B:  0\n",
      "Final State of Jug A:  0\n",
      "Final State of Jug B:  2\n"
     ]
    },
    {
     "name": "stdout",
     "output_type": "stream",
     "text": [
      "\n",
      "List of Operations You Can Do:\n",
      "1. Fill Jug A Completely\n",
      "2. Fill Jug B Completely\n",
      "3. Empty Jug A Completely\n",
      "4. Empty Jug B Completely\n",
      "5. Pour from Jug A till Jug B is filled completely or A becomes empty\n",
      "6. Pour from Jug B till Jug A is filled completely or B becomes empty\n",
      "7. Pour all from Jug B to Jug A\n",
      "8. Pour all from Jug A to Jug B\n",
      "\n"
     ]
    },
    {
     "name": "stdin",
     "output_type": "stream",
     "text": [
      "Enter the Operation:  2\n"
     ]
    },
    {
     "name": "stdout",
     "output_type": "stream",
     "text": [
      "Current State: Jug A = 0 , Jug B = 3\n"
     ]
    },
    {
     "name": "stdin",
     "output_type": "stream",
     "text": [
      "Enter the Operation:  6\n"
     ]
    },
    {
     "name": "stdout",
     "output_type": "stream",
     "text": [
      "Current State: Jug A = 3 , Jug B = 0\n"
     ]
    },
    {
     "name": "stdin",
     "output_type": "stream",
     "text": [
      "Enter the Operation:  2\n"
     ]
    },
    {
     "name": "stdout",
     "output_type": "stream",
     "text": [
      "Current State: Jug A = 3 , Jug B = 3\n"
     ]
    },
    {
     "name": "stdin",
     "output_type": "stream",
     "text": [
      "Enter the Operation:  6\n"
     ]
    },
    {
     "name": "stdout",
     "output_type": "stream",
     "text": [
      "Current State: Jug A = 4 , Jug B = 2\n"
     ]
    },
    {
     "name": "stdin",
     "output_type": "stream",
     "text": [
      "Enter the Operation:  3\n"
     ]
    },
    {
     "name": "stdout",
     "output_type": "stream",
     "text": [
      "Current State: Jug A = 0 , Jug B = 2\n"
     ]
    }
   ],
   "source": [
    "# Taking input for jug capacities and states\n",
    "a = int(input(\"Enter Jug A Capacity: \"))\n",
    "b = int(input(\"Enter Jug B Capacity: \"))\n",
    "ai = int(input(\"Initially Water in Jug A: \"))\n",
    "bi = int(input(\"Initially Water in Jug B: \"))\n",
    "af = int(input(\"Final State of Jug A: \"))\n",
    "bf = int(input(\"Final State of Jug B: \"))\n",
    "\n",
    "# Displaying the list of operations\n",
    "print(\"\\nList of Operations You Can Do:\")\n",
    "print(\"1. Fill Jug A Completely\")\n",
    "print(\"2. Fill Jug B Completely\")\n",
    "print(\"3. Empty Jug A Completely\")\n",
    "print(\"4. Empty Jug B Completely\")\n",
    "print(\"5. Pour from Jug A till Jug B is filled completely or A becomes empty\")\n",
    "print(\"6. Pour from Jug B till Jug A is filled completely or B becomes empty\")\n",
    "print(\"7. Pour all from Jug B to Jug A\")\n",
    "print(\"8. Pour all from Jug A to Jug B\\n\")\n",
    "\n",
    "# While loop to achieve the final state\n",
    "while (ai != af or bi != bf):\n",
    "    op = int(input(\"Enter the Operation: \"))\n",
    "    \n",
    "    if op == 1:  # Fill Jug A completely\n",
    "        ai = a\n",
    "    elif op == 2:  # Fill Jug B completely\n",
    "        bi = b\n",
    "    elif op == 3:  # Empty Jug A completely\n",
    "        ai = 0\n",
    "    elif op == 4:  # Empty Jug B completely\n",
    "        bi = 0\n",
    "    elif op == 5:  # Pour from Jug A to Jug B\n",
    "        if b - bi > ai:\n",
    "            bi = ai + bi\n",
    "            ai = 0\n",
    "        else:\n",
    "            ai = ai - (b - bi)\n",
    "            bi = b\n",
    "    elif op == 6:  # Pour from Jug B to Jug A\n",
    "        if a - ai > bi:\n",
    "            ai = ai + bi\n",
    "            bi = 0\n",
    "        else:\n",
    "            bi = bi - (a - ai)\n",
    "            ai = a\n",
    "    elif op == 7:  # Pour all from Jug B to Jug A\n",
    "        ai = ai + bi\n",
    "        bi = 0\n",
    "    elif op == 8:  # Pour all from Jug A to Jug B\n",
    "        bi = ai + bi\n",
    "        ai = 0\n",
    "    else:\n",
    "        print(\"Invalid Operation! Please enter a valid operation number.\")\n",
    "\n",
    "    # Display current state of the jugs\n",
    "    print(\"Current State: Jug A =\", ai, \", Jug B =\", bi)\n"
   ]
  },
  {
   "cell_type": "code",
   "execution_count": null,
   "id": "1d4b1f64-98a8-4360-ab0d-bd54c33332cd",
   "metadata": {},
   "outputs": [],
   "source": []
  }
 ],
 "metadata": {
  "kernelspec": {
   "display_name": "Python 3 (ipykernel)",
   "language": "python",
   "name": "python3"
  },
  "language_info": {
   "codemirror_mode": {
    "name": "ipython",
    "version": 3
   },
   "file_extension": ".py",
   "mimetype": "text/x-python",
   "name": "python",
   "nbconvert_exporter": "python",
   "pygments_lexer": "ipython3",
   "version": "3.10.5"
  }
 },
 "nbformat": 4,
 "nbformat_minor": 5
}
