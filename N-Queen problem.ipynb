{
 "cells": [
  {
   "cell_type": "code",
   "execution_count": 27,
   "id": "909ea4fa-3bd3-430e-be6e-3cd12bd7afd1",
   "metadata": {},
   "outputs": [
    {
     "name": "stdout",
     "output_type": "stream",
     "text": [
      "Enter the number of queens: \n"
     ]
    },
    {
     "name": "stdin",
     "output_type": "stream",
     "text": [
      " 4\n"
     ]
    },
    {
     "name": "stdout",
     "output_type": "stream",
     "text": [
      "[0, 1, 0, 0]\n",
      "[0, 0, 0, 1]\n",
      "[1, 0, 0, 0]\n",
      "[0, 0, 1, 0]\n"
     ]
    }
   ],
   "source": [
    "print(\"Enter the number of queens: \")\n",
    "N = int(input())\n",
    "\n",
    "# Chessboard (NxN matrix with all elements 0)\n",
    "board = [[0] * N for _ in range(N)]\n",
    "\n",
    "# Function to check if placing a queen at (row, col) is safe\n",
    "def is_safe(row, col):\n",
    "    # Check column for another queen\n",
    "    for i in range(row):\n",
    "        if board[i][col] == 1:\n",
    "            return False\n",
    "\n",
    "    # Check upper-left diagonal\n",
    "    for i, j in zip(range(row, -1, -1), range(col, -1, -1)):\n",
    "        if board[i][j] == 1:\n",
    "            return False\n",
    "\n",
    "    # Check upper-right diagonal\n",
    "    for i, j in zip(range(row, -1, -1), range(col, N)):\n",
    "        if board[i][j] == 1:\n",
    "            return False\n",
    "\n",
    "    return True\n",
    "\n",
    "# Recursive function to solve the N-Queens problem\n",
    "def solve_n_queens(row):\n",
    "    if row == N:  # All queens placed successfully\n",
    "        return True\n",
    "\n",
    "    for col in range(N):\n",
    "        if is_safe(row, col):  # Check if it's safe to place a queen\n",
    "            board[row][col] = 1  # Place queen\n",
    "            if solve_n_queens(row + 1):  # Recurse to place next queen\n",
    "                return True\n",
    "            board[row][col] = 0  # Backtrack and remove queen\n",
    "\n",
    "    return False\n",
    "\n",
    "# Solve the N-Queens problem\n",
    "if solve_n_queens(0):\n",
    "    for row in board:\n",
    "        print(row)\n",
    "else:\n",
    "    print(\"Solution does not exist\")\n"
   ]
  },
  {
   "cell_type": "code",
   "execution_count": null,
   "id": "95026935-55ab-4fcf-bc46-f5ab03cfcc50",
   "metadata": {},
   "outputs": [],
   "source": []
  }
 ],
 "metadata": {
  "kernelspec": {
   "display_name": "Python 3 (ipykernel)",
   "language": "python",
   "name": "python3"
  },
  "language_info": {
   "codemirror_mode": {
    "name": "ipython",
    "version": 3
   },
   "file_extension": ".py",
   "mimetype": "text/x-python",
   "name": "python",
   "nbconvert_exporter": "python",
   "pygments_lexer": "ipython3",
   "version": "3.10.5"
  }
 },
 "nbformat": 4,
 "nbformat_minor": 5
}
