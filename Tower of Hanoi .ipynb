{
 "cells": [
  {
   "cell_type": "code",
   "execution_count": 3,
   "id": "e132b189-fc2d-488c-8f40-c1dbd1fc977a",
   "metadata": {},
   "outputs": [
    {
     "name": "stdin",
     "output_type": "stream",
     "text": [
      "Enter the number of disks:  3\n"
     ]
    },
    {
     "name": "stdout",
     "output_type": "stream",
     "text": [
      "Move disk 1 from rod A to rod C:\n",
      "Move disk 2 from rod A to rod B:\n",
      "Move disk 1 from rod C to rod B:\n",
      "Move disk 3 from rod A to rod C:\n",
      "Move disk 1 from rod B to rod A:\n",
      "Move disk 2 from rod B to rod C:\n",
      "Move disk 1 from rod A to rod C:\n"
     ]
    }
   ],
   "source": [
    "# Creating a recursive function for Tower of Hanoi\n",
    "def tower_of_hanoi(disks, source, auxiliary, target):\n",
    "    if disks == 1:\n",
    "        print(\"Move disk 1 from rod {} to rod {}:\".format(source, target))\n",
    "        return\n",
    "    # Recursion to move n-1 disks from source to auxiliary\n",
    "    tower_of_hanoi(disks - 1, source, target, auxiliary)\n",
    "    print(\"Move disk {} from rod {} to rod {}:\".format(disks, source, target))\n",
    "    # Recursion to move n-1 disks from auxiliary to target\n",
    "    tower_of_hanoi(disks - 1, auxiliary, source, target)\n",
    "\n",
    "# Input for number of disks\n",
    "disks = int(input(\"Enter the number of disks: \"))\n",
    "\n",
    "# Referring source as A, auxiliary as B, and target as C\n",
    "tower_of_hanoi(disks, 'A', 'B', 'C')  # Calling the function\n"
   ]
  },
  {
   "cell_type": "code",
   "execution_count": null,
   "id": "3532c467-c14d-4354-84ea-f01c592f8f24",
   "metadata": {},
   "outputs": [],
   "source": []
  }
 ],
 "metadata": {
  "kernelspec": {
   "display_name": "Python 3 (ipykernel)",
   "language": "python",
   "name": "python3"
  },
  "language_info": {
   "codemirror_mode": {
    "name": "ipython",
    "version": 3
   },
   "file_extension": ".py",
   "mimetype": "text/x-python",
   "name": "python",
   "nbconvert_exporter": "python",
   "pygments_lexer": "ipython3",
   "version": "3.10.5"
  }
 },
 "nbformat": 4,
 "nbformat_minor": 5
}
