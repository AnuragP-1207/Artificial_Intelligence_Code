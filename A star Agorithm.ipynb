{
 "cells": [
  {
   "cell_type": "code",
   "execution_count": 1,
   "id": "748a2c4d-202d-48bf-8493-b604162450b9",
   "metadata": {},
   "outputs": [
    {
     "name": "stdout",
     "output_type": "stream",
     "text": [
      "Path found: ['S', 'A', 'C', 'G']\n"
     ]
    },
    {
     "data": {
      "text/plain": [
       "['S', 'A', 'C', 'G']"
      ]
     },
     "execution_count": 1,
     "metadata": {},
     "output_type": "execute_result"
    }
   ],
   "source": [
    "def aStarAlgo(start_node, stop_node):\n",
    "    open_set = set([start_node])\n",
    "    closed_set = set()\n",
    "    path_cost = {}\n",
    "    parents = {}\n",
    "    path = []\n",
    "\n",
    "    path_cost[start_node] = 0\n",
    "    parents[start_node] = start_node\n",
    "\n",
    "    while len(open_set) > 0:\n",
    "        current_node = None\n",
    "\n",
    "        # Find the node with the lowest cost\n",
    "        for v_node in open_set:\n",
    "            if current_node is None or path_cost[v_node] + heuristic(v_node) < path_cost[current_node] + heuristic(current_node):\n",
    "                current_node = v_node\n",
    "\n",
    "        if current_node is None:\n",
    "            print(\"Path does not exist!\")\n",
    "            return None\n",
    "\n",
    "        # If the destination is reached\n",
    "        if current_node == stop_node:\n",
    "            while parents[current_node] != current_node:\n",
    "                path.append(current_node)\n",
    "                current_node = parents[current_node]\n",
    "            path.append(start_node)\n",
    "            path.reverse()\n",
    "            print('Path found: {}'.format(path))\n",
    "            return path\n",
    "\n",
    "        # Process the neighbors\n",
    "        for (adj_node, weight) in get_neighbors(current_node):\n",
    "            if adj_node not in open_set and adj_node not in closed_set:\n",
    "                open_set.add(adj_node)\n",
    "                parents[adj_node] = current_node\n",
    "                path_cost[adj_node] = path_cost[current_node] + weight\n",
    "            else:\n",
    "                if path_cost[adj_node] > path_cost[current_node] + weight:\n",
    "                    path_cost[adj_node] = path_cost[current_node] + weight\n",
    "                    parents[adj_node] = current_node\n",
    "                    if adj_node in closed_set:\n",
    "                        closed_set.remove(adj_node)\n",
    "                        open_set.add(adj_node)\n",
    "\n",
    "        # Move the current node from open to closed set\n",
    "        open_set.remove(current_node)\n",
    "        closed_set.add(current_node)\n",
    "\n",
    "    print(\"Path does not exist!\")\n",
    "    return None\n",
    "\n",
    "# Function to get neighbors of a node\n",
    "def get_neighbors(v_node):\n",
    "    if v_node in Graph_nodes:\n",
    "        return Graph_nodes[v_node]\n",
    "    else:\n",
    "        return None\n",
    "\n",
    "# Heuristic function\n",
    "def heuristic(n):\n",
    "    H_dist = {\n",
    "        'S': 5,\n",
    "        'A': 3,\n",
    "        'B': 4,\n",
    "        'C': 2,\n",
    "        'D': 6,\n",
    "        'G': 0,\n",
    "    }\n",
    "    return H_dist[n]\n",
    "\n",
    "# Graph definition\n",
    "Graph_nodes = {\n",
    "    'S': [('A', 1), ('G', 10)],\n",
    "    'A': [('C', 1), ('B', 2)],\n",
    "    'B': [('D', 5)],\n",
    "    'D': [('G', 2)],\n",
    "    'C': [('G', 4), ('D', 3)],\n",
    "    'G': None\n",
    "}\n",
    "\n",
    "# Run the algorithm\n",
    "aStarAlgo('S', 'G')\n"
   ]
  },
  {
   "cell_type": "code",
   "execution_count": null,
   "id": "912bfff4-1fff-414f-ba49-0321ae0babdc",
   "metadata": {},
   "outputs": [],
   "source": []
  }
 ],
 "metadata": {
  "kernelspec": {
   "display_name": "Python 3 (ipykernel)",
   "language": "python",
   "name": "python3"
  },
  "language_info": {
   "codemirror_mode": {
    "name": "ipython",
    "version": 3
   },
   "file_extension": ".py",
   "mimetype": "text/x-python",
   "name": "python",
   "nbconvert_exporter": "python",
   "pygments_lexer": "ipython3",
   "version": "3.10.5"
  }
 },
 "nbformat": 4,
 "nbformat_minor": 5
}
