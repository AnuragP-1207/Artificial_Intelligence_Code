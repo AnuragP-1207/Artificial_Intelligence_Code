{
 "cells": [
  {
   "cell_type": "code",
   "execution_count": null,
   "id": "0a2a5ee7-b9b5-4567-a9c6-c677c33e33ba",
   "metadata": {},
   "outputs": [
    {
     "name": "stdout",
     "output_type": "stream",
     "text": [
      " | | \n",
      "-+-+-\n",
      " | | \n",
      "-+-+-\n",
      " | | \n",
      "It's your turn, X. Move to which place?\n"
     ]
    },
    {
     "name": "stdin",
     "output_type": "stream",
     "text": [
      " 1\n"
     ]
    },
    {
     "name": "stdout",
     "output_type": "stream",
     "text": [
      " | | \n",
      "-+-+-\n",
      " | | \n",
      "-+-+-\n",
      "X| | \n",
      "It's your turn, O. Move to which place?\n"
     ]
    },
    {
     "name": "stdin",
     "output_type": "stream",
     "text": [
      " 2\n"
     ]
    },
    {
     "name": "stdout",
     "output_type": "stream",
     "text": [
      " | | \n",
      "-+-+-\n",
      " | | \n",
      "-+-+-\n",
      "X|O| \n",
      "It's your turn, X. Move to which place?\n"
     ]
    },
    {
     "name": "stdin",
     "output_type": "stream",
     "text": [
      " 4\n"
     ]
    },
    {
     "name": "stdout",
     "output_type": "stream",
     "text": [
      " | | \n",
      "-+-+-\n",
      "X| | \n",
      "-+-+-\n",
      "X|O| \n",
      "It's your turn, O. Move to which place?\n"
     ]
    },
    {
     "name": "stdin",
     "output_type": "stream",
     "text": [
      " 9\n"
     ]
    },
    {
     "name": "stdout",
     "output_type": "stream",
     "text": [
      " | |O\n",
      "-+-+-\n",
      "X| | \n",
      "-+-+-\n",
      "X|O| \n",
      "It's your turn, X. Move to which place?\n"
     ]
    },
    {
     "name": "stdin",
     "output_type": "stream",
     "text": [
      " 7\n"
     ]
    },
    {
     "name": "stdout",
     "output_type": "stream",
     "text": [
      "X| |O\n",
      "-+-+-\n",
      "X| | \n",
      "-+-+-\n",
      "X|O| \n",
      "\n",
      "Game Over.\n",
      "\n",
      " **** X won! ****\n"
     ]
    },
    {
     "name": "stdin",
     "output_type": "stream",
     "text": [
      "Do you want to play again? (y/n):  y\n"
     ]
    },
    {
     "name": "stdout",
     "output_type": "stream",
     "text": [
      " | | \n",
      "-+-+-\n",
      " | | \n",
      "-+-+-\n",
      " | | \n",
      "It's your turn, X. Move to which place?\n"
     ]
    },
    {
     "name": "stdin",
     "output_type": "stream",
     "text": [
      " 3\n"
     ]
    },
    {
     "name": "stdout",
     "output_type": "stream",
     "text": [
      " | | \n",
      "-+-+-\n",
      " | | \n",
      "-+-+-\n",
      " | |X\n",
      "It's your turn, O. Move to which place?\n"
     ]
    },
    {
     "name": "stdin",
     "output_type": "stream",
     "text": [
      " 5\n"
     ]
    },
    {
     "name": "stdout",
     "output_type": "stream",
     "text": [
      " | | \n",
      "-+-+-\n",
      " |O| \n",
      "-+-+-\n",
      " | |X\n",
      "It's your turn, X. Move to which place?\n"
     ]
    },
    {
     "name": "stdin",
     "output_type": "stream",
     "text": [
      " 3\n"
     ]
    },
    {
     "name": "stdout",
     "output_type": "stream",
     "text": [
      "That place is already filled. Move to another place.\n",
      " | | \n",
      "-+-+-\n",
      " |O| \n",
      "-+-+-\n",
      " | |X\n",
      "It's your turn, X. Move to which place?\n"
     ]
    },
    {
     "name": "stdin",
     "output_type": "stream",
     "text": [
      " 2\n"
     ]
    },
    {
     "name": "stdout",
     "output_type": "stream",
     "text": [
      " | | \n",
      "-+-+-\n",
      " |O| \n",
      "-+-+-\n",
      " |X|X\n",
      "It's your turn, O. Move to which place?\n"
     ]
    },
    {
     "name": "stdin",
     "output_type": "stream",
     "text": [
      " 1\n"
     ]
    },
    {
     "name": "stdout",
     "output_type": "stream",
     "text": [
      " | | \n",
      "-+-+-\n",
      " |O| \n",
      "-+-+-\n",
      "O|X|X\n",
      "It's your turn, X. Move to which place?\n"
     ]
    },
    {
     "name": "stdin",
     "output_type": "stream",
     "text": [
      " 8\n"
     ]
    },
    {
     "name": "stdout",
     "output_type": "stream",
     "text": [
      " |X| \n",
      "-+-+-\n",
      " |O| \n",
      "-+-+-\n",
      "O|X|X\n",
      "It's your turn, O. Move to which place?\n"
     ]
    },
    {
     "name": "stdin",
     "output_type": "stream",
     "text": [
      " 6\n"
     ]
    },
    {
     "name": "stdout",
     "output_type": "stream",
     "text": [
      " |X| \n",
      "-+-+-\n",
      " |O|O\n",
      "-+-+-\n",
      "O|X|X\n",
      "It's your turn, X. Move to which place?\n"
     ]
    },
    {
     "name": "stdin",
     "output_type": "stream",
     "text": [
      " 4\n"
     ]
    },
    {
     "name": "stdout",
     "output_type": "stream",
     "text": [
      " |X| \n",
      "-+-+-\n",
      "X|O|O\n",
      "-+-+-\n",
      "O|X|X\n",
      "It's your turn, O. Move to which place?\n"
     ]
    },
    {
     "name": "stdin",
     "output_type": "stream",
     "text": [
      " 9\n"
     ]
    },
    {
     "name": "stdout",
     "output_type": "stream",
     "text": [
      " |X|O\n",
      "-+-+-\n",
      "X|O|O\n",
      "-+-+-\n",
      "O|X|X\n",
      "\n",
      "Game Over.\n",
      "\n",
      " **** O won! ****\n"
     ]
    }
   ],
   "source": [
    "# Initialize the game board\n",
    "theBoard = {'7': ' ', '8': ' ', '9': ' ',\n",
    "            '4': ' ', '5': ' ', '6': ' ',\n",
    "            '1': ' ', '2': ' ', '3': ' '}\n",
    "board_keys = list(theBoard.keys())\n",
    "\n",
    "# Function to print the game board\n",
    "def printBoard(board):\n",
    "    print(board['7'] + '|' + board['8'] + '|' + board['9'])\n",
    "    print('-+-+-')\n",
    "    print(board['4'] + '|' + board['5'] + '|' + board['6'])\n",
    "    print('-+-+-')\n",
    "    print(board['1'] + '|' + board['2'] + '|' + board['3'])\n",
    "\n",
    "# Main game function\n",
    "def game():\n",
    "    turn = 'X'\n",
    "    count = 0\n",
    "\n",
    "    for i in range(9):\n",
    "        printBoard(theBoard)\n",
    "        print(\"It's your turn, \" + turn + \". Move to which place?\")\n",
    "\n",
    "        move = input()\n",
    "\n",
    "        # Check if the move is valid\n",
    "        if move in theBoard and theBoard[move] == ' ':\n",
    "            theBoard[move] = turn\n",
    "            count += 1\n",
    "        else:\n",
    "            print(\"That place is already filled. Move to another place.\")\n",
    "            continue\n",
    "\n",
    "        # Check for a win\n",
    "        if count >= 5:\n",
    "            if theBoard['7'] == theBoard['8'] == theBoard['9'] != ' ':  # Top row\n",
    "                printBoard(theBoard)\n",
    "                print(\"\\nGame Over.\\n\")\n",
    "                print(\" **** \" + turn + \" won! ****\")\n",
    "                break\n",
    "            elif theBoard['4'] == theBoard['5'] == theBoard['6'] != ' ':  # Middle row\n",
    "                printBoard(theBoard)\n",
    "                print(\"\\nGame Over.\\n\")\n",
    "                print(\" **** \" + turn + \" won! ****\")\n",
    "                break\n",
    "            elif theBoard['1'] == theBoard['2'] == theBoard['3'] != ' ':  # Bottom row\n",
    "                printBoard(theBoard)\n",
    "                print(\"\\nGame Over.\\n\")\n",
    "                print(\" **** \" + turn + \" won! ****\")\n",
    "                break\n",
    "            elif theBoard['1'] == theBoard['4'] == theBoard['7'] != ' ':  # Left column\n",
    "                printBoard(theBoard)\n",
    "                print(\"\\nGame Over.\\n\")\n",
    "                print(\" **** \" + turn + \" won! ****\")\n",
    "                break\n",
    "            elif theBoard['2'] == theBoard['5'] == theBoard['8'] != ' ':  # Middle column\n",
    "                printBoard(theBoard)\n",
    "                print(\"\\nGame Over.\\n\")\n",
    "                print(\" **** \" + turn + \" won! ****\")\n",
    "                break\n",
    "            elif theBoard['3'] == theBoard['6'] == theBoard['9'] != ' ':  # Right column\n",
    "                printBoard(theBoard)\n",
    "                print(\"\\nGame Over.\\n\")\n",
    "                print(\" **** \" + turn + \" won! ****\")\n",
    "                break\n",
    "            elif theBoard['1'] == theBoard['5'] == theBoard['9'] != ' ':  # Diagonal\n",
    "                printBoard(theBoard)\n",
    "                print(\"\\nGame Over.\\n\")\n",
    "                print(\" **** \" + turn + \" won! ****\")\n",
    "                break\n",
    "            elif theBoard['3'] == theBoard['5'] == theBoard['7'] != ' ':  # Diagonal\n",
    "                printBoard(theBoard)\n",
    "                print(\"\\nGame Over.\\n\")\n",
    "                print(\" **** \" + turn + \" won! ****\")\n",
    "                break\n",
    "\n",
    "        # Check for a tie\n",
    "        if count == 9:\n",
    "            print(\"\\nGame Over.\\n\")\n",
    "            print(\"It's a Tie!\")\n",
    "            break\n",
    "\n",
    "        # Switch turns\n",
    "        if turn == 'X':\n",
    "            turn = 'O'\n",
    "        else:\n",
    "            turn = 'X'\n",
    "\n",
    "    # Restart the game\n",
    "    restart = input(\"Do you want to play again? (y/n): \")\n",
    "    if restart.lower() == 'y':\n",
    "        for key in board_keys:\n",
    "            theBoard[key] = \" \"\n",
    "        game()\n",
    "\n",
    "# Start the game\n",
    "if __name__ == \"__main__\":\n",
    "    game()\n"
   ]
  },
  {
   "cell_type": "code",
   "execution_count": null,
   "id": "0a301c5d-e119-41c7-8e8f-8cfe8c8464c9",
   "metadata": {},
   "outputs": [],
   "source": []
  }
 ],
 "metadata": {
  "kernelspec": {
   "display_name": "Python 3 (ipykernel)",
   "language": "python",
   "name": "python3"
  },
  "language_info": {
   "codemirror_mode": {
    "name": "ipython",
    "version": 3
   },
   "file_extension": ".py",
   "mimetype": "text/x-python",
   "name": "python",
   "nbconvert_exporter": "python",
   "pygments_lexer": "ipython3",
   "version": "3.10.5"
  }
 },
 "nbformat": 4,
 "nbformat_minor": 5
}
