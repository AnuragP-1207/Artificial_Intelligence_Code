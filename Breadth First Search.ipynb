{
 "cells": [
  {
   "cell_type": "code",
   "execution_count": 2,
   "id": "c0b73e92-fd9b-41ac-ac9b-9210b5e5c0a9",
   "metadata": {},
   "outputs": [
    {
     "name": "stdout",
     "output_type": "stream",
     "text": [
      "Following is the Breadth-First Search\n",
      "A\n",
      "B\n",
      "C\n",
      "D\n",
      "E\n",
      "F\n",
      "G\n",
      "H\n",
      "I\n"
     ]
    }
   ],
   "source": [
    "graph = {\n",
    "    'A' : ['B','C'],\n",
    "    'B' : ['A','D','E'],\n",
    "    'C' : ['A','F'],\n",
    "    'D' : ['B','G'],\n",
    "    'E' : ['B','G'],\n",
    "    'F' : ['C','H'],\n",
    "    'G' : ['D','E','I'],\n",
    "    'H' : ['F','I'],\n",
    "    'I' : ['H','G'],\n",
    "}\n",
    "visited = []\n",
    "queue = []\n",
    "\n",
    "def bfs(visited, graph,node):\n",
    "    visited.append(node)\n",
    "    queue.append(node)\n",
    "    while queue:\n",
    "        m = queue.pop(0)\n",
    "        print(m)\n",
    "        for neighbour in graph[m]:\n",
    "            if neighbour not in visited:\n",
    "                visited.append(neighbour)\n",
    "                queue.append(neighbour)\n",
    "\n",
    "print(\"Following is the Breadth-First Search\")\n",
    "bfs(visited, graph, 'A')"
   ]
  },
  {
   "cell_type": "code",
   "execution_count": null,
   "id": "8285682c-cd79-4ae4-b63c-834de0e29f17",
   "metadata": {},
   "outputs": [],
   "source": []
  }
 ],
 "metadata": {
  "kernelspec": {
   "display_name": "Python 3 (ipykernel)",
   "language": "python",
   "name": "python3"
  },
  "language_info": {
   "codemirror_mode": {
    "name": "ipython",
    "version": 3
   },
   "file_extension": ".py",
   "mimetype": "text/x-python",
   "name": "python",
   "nbconvert_exporter": "python",
   "pygments_lexer": "ipython3",
   "version": "3.10.5"
  }
 },
 "nbformat": 4,
 "nbformat_minor": 5
}
